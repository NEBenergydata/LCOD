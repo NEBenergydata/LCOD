{
 "cells": [
  {
   "cell_type": "markdown",
   "metadata": {},
   "source": [
    "<h2>Levelized Cost of Driving Calculator</h2>\n",
    "\n",
    "The Purpose of this tool is to compare the levelized cost of driving (LCOD) for various types of vehilces based on assumptions made in the report *Canada's Energy Future 2018* published by the National Energy Board (NEB). LCOD is calculated by taking a number of variables into account including; the purchase price of a vehicle, fuel costs, the discount rate, and the expected life of the vehicle."
   ]
  },
  {
   "cell_type": "markdown",
   "metadata": {},
   "source": [
    "Below is the script which pulls the data needed to make these calculations. Purchase and fuel cost data is taken from the NEB, while annual up keep cost assumptions are based on journal articles. "
   ]
  },
  {
   "cell_type": "code",
   "execution_count": 109,
   "metadata": {
    "code_folding": [
     36,
     38
    ]
   },
   "outputs": [],
   "source": [
    "#Import and clean data\n",
    "import pandas as pd\n",
    "pd.options.mode.chained_assignment = None \n",
    "import matplotlib.pyplot as plt\n",
    "import numpy as np\n",
    "import datetime as dt\n",
    "import seaborn as sns\n",
    "from __future__ import print_function\n",
    "from ipywidgets import interact, interactive, fixed, interact_manual\n",
    "import ipywidgets as widgets\n",
    "from ipywidgets import Layout, Box\n",
    "from textwrap import wrap\n",
    "\n",
    "#Set current year\n",
    "now = dt.datetime.now()\n",
    "cur_year = now.year\n",
    "\n",
    "#Import electricity data and gasoline data from EF, saved to local drive\n",
    "end_use_data = pd.read_excel('C:\\\\Users\\\\saftryan\\\\English End Use Prices.xlsx') #Remap to local folder\n",
    "elc_data = end_use_data[(end_use_data.Variable_English == 'Electricity') & (end_use_data.Sector == 'Residential') & (end_use_data.Case != 'High Price') & (end_use_data.Case != 'Low Price')]\n",
    "elc_data['$/unit'] = elc_data['Value']/277.778\n",
    "elc_data['Variable_English'] = 'B'\n",
    "reg_gas = end_use_data[(end_use_data.Variable_English == 'Gasoline') & (end_use_data.Sector == 'Transportation') & (end_use_data.Case != 'High Price') & (end_use_data.Case != 'Low Price')]\n",
    "reg_gas['$/unit'] = reg_gas['Value']*34.66/1000\n",
    "reg_gas['Variable_English'] = 'X'\n",
    "prm_gas = reg_gas.copy()\n",
    "prm_gas['$/unit'] = prm_gas['$/unit']*1.1\n",
    "prm_gas['Variable_English'] = 'Z'\n",
    "diesel = end_use_data[(end_use_data.Variable_English == 'Diesel') & (end_use_data.Sector == 'Transportation') & (end_use_data.Case != 'High Price') & (end_use_data.Case != 'Low Price')]\n",
    "diesel['$/unit'] = diesel['Value']*38.68/1000\n",
    "diesel['Variable_English'] ='D'\n",
    "neb_fuel = reg_gas.append(prm_gas)\n",
    "neb_fuel = neb_fuel.append(diesel)\n",
    "neb_fuel = neb_fuel.append(elc_data)\n",
    "\n",
    "#Vehicle Costs\n",
    "all_ice_cost = pd.DataFrame(data={'ice': ['COMPACT','FULL-SIZE','MID-SIZE','MINICOMPACT','MINIVAN','PICKUP TRUCK - SMALL','PICKUP TRUCK - STANDARD','STATION WAGON - MID-SIZE','STATION WAGON - SMALL','SUBCOMPACT','SUV - SMALL','SUV - STANDARD','TWO-SEATER'],\n",
    "                                  'cost': [19500,32000,24000,34000,31000,26000,34000,49000,21000,39000,29000,45000,100000]})\n",
    "all_ev_cost = pd.DataFrame(data={'ev': ['BMW i3','BOLT','FOCUS','IONIQ','LEAF','FORTWO','MODEL 3','MODEL S','MODEL X','GOLF'],\n",
    "                                 'cost': [45500, 36600, 30000, 37500, 36800, 27400, 60100, 101300, 116000, 36400]})\n",
    "ef_costs = pd.read_excel('C:\\\\Users\\\\saftryan\\\\LCOD stuff\\\\EF Veh Costs.xlsx')"
   ]
  },
  {
   "cell_type": "code",
   "execution_count": 36,
   "metadata": {},
   "outputs": [
    {
     "data": {
      "text/html": [
       "<div>\n",
       "<style scoped>\n",
       "    .dataframe tbody tr th:only-of-type {\n",
       "        vertical-align: middle;\n",
       "    }\n",
       "\n",
       "    .dataframe tbody tr th {\n",
       "        vertical-align: top;\n",
       "    }\n",
       "\n",
       "    .dataframe thead th {\n",
       "        text-align: right;\n",
       "    }\n",
       "</style>\n",
       "<table border=\"1\" class=\"dataframe\">\n",
       "  <thead>\n",
       "    <tr style=\"text-align: right;\">\n",
       "      <th></th>\n",
       "      <th>Case</th>\n",
       "      <th>Region</th>\n",
       "      <th>Variable_English</th>\n",
       "      <th>Year</th>\n",
       "      <th>Value</th>\n",
       "      <th>Sector</th>\n",
       "    </tr>\n",
       "  </thead>\n",
       "  <tbody>\n",
       "    <tr>\n",
       "      <th>0</th>\n",
       "      <td>Reference</td>\n",
       "      <td>Ontario</td>\n",
       "      <td>Electricity</td>\n",
       "      <td>2005</td>\n",
       "      <td>36.922656</td>\n",
       "      <td>Residential</td>\n",
       "    </tr>\n",
       "    <tr>\n",
       "      <th>1</th>\n",
       "      <td>Reference</td>\n",
       "      <td>Ontario</td>\n",
       "      <td>Electricity</td>\n",
       "      <td>2006</td>\n",
       "      <td>40.857144</td>\n",
       "      <td>Residential</td>\n",
       "    </tr>\n",
       "    <tr>\n",
       "      <th>2</th>\n",
       "      <td>Reference</td>\n",
       "      <td>Ontario</td>\n",
       "      <td>Electricity</td>\n",
       "      <td>2007</td>\n",
       "      <td>40.636041</td>\n",
       "      <td>Residential</td>\n",
       "    </tr>\n",
       "    <tr>\n",
       "      <th>3</th>\n",
       "      <td>Reference</td>\n",
       "      <td>Ontario</td>\n",
       "      <td>Electricity</td>\n",
       "      <td>2008</td>\n",
       "      <td>37.314651</td>\n",
       "      <td>Residential</td>\n",
       "    </tr>\n",
       "    <tr>\n",
       "      <th>4</th>\n",
       "      <td>Reference</td>\n",
       "      <td>Ontario</td>\n",
       "      <td>Electricity</td>\n",
       "      <td>2009</td>\n",
       "      <td>39.529773</td>\n",
       "      <td>Residential</td>\n",
       "    </tr>\n",
       "  </tbody>\n",
       "</table>\n",
       "</div>"
      ],
      "text/plain": [
       "        Case   Region Variable_English  Year      Value       Sector\n",
       "0  Reference  Ontario      Electricity  2005  36.922656  Residential\n",
       "1  Reference  Ontario      Electricity  2006  40.857144  Residential\n",
       "2  Reference  Ontario      Electricity  2007  40.636041  Residential\n",
       "3  Reference  Ontario      Electricity  2008  37.314651  Residential\n",
       "4  Reference  Ontario      Electricity  2009  39.529773  Residential"
      ]
     },
     "execution_count": 36,
     "metadata": {},
     "output_type": "execute_result"
    }
   ],
   "source": [
    "end_use_data.head()"
   ]
  },
  {
   "cell_type": "markdown",
   "metadata": {},
   "source": [
    "<h2>Functions</h2>\n",
    "\n",
    "- **sets:** creates a list of based on all of the unque values in a column\n",
    "- **LCOD_calc:** calculates the Levilized Cost of Driving using the formula:\n",
    "\n",
    "\n",
    "$$ LCOD = \\frac {CRF * (CC + I) + M} {km/yr} + \\frac {CAD/Unit}{km/Unit}$$\n",
    "\n",
    "Where: \n",
    "<br>\n",
    "&nbsp;&nbsp;&nbsp;&nbsp;&nbsp;&nbsp;CC = Capital cost of the vehicle\n",
    "<br>\n",
    "&nbsp;&nbsp;&nbsp;&nbsp;&nbsp;&nbsp;I = Infrastructure investment (e.g. Charging station for EV) \n",
    "<br>\n",
    "&nbsp;&nbsp;&nbsp;&nbsp;&nbsp;&nbsp;M = Annual maintenance cost of the vehicle \n",
    "<br>\n",
    "&nbsp;&nbsp;&nbsp;&nbsp;&nbsp;&nbsp;km/yr = expected kilometers driver per year \n",
    "<br>\n",
    "&nbsp;&nbsp;&nbsp;&nbsp;&nbsp;&nbsp;CAD/Unit = Cost of one unit of fuel (kwh or l of gasoline) \n",
    "<br>\n",
    "&nbsp;&nbsp;&nbsp;&nbsp;&nbsp;&nbsp;Eff = Fuel efficency of vehicle in l or kw per km \n",
    "<br>\n",
    "&nbsp;&nbsp;&nbsp;&nbsp;&nbsp;&nbsp;CRF = Capital Recovery Factor\n",
    "\n",
    "$$ CRF = \\frac {r*(1+r)^t} {(1+r)^t-1} $$\n",
    "\n",
    "Where: \n",
    "<br>\n",
    "&nbsp;&nbsp;&nbsp;&nbsp;&nbsp;&nbsp;r = Discount rate \n",
    "<br>\n",
    "&nbsp;&nbsp;&nbsp;&nbsp;&nbsp;&nbsp;t = Time period\n",
    "\n",
    "- **eff_gains:** projects future improvements in fuel economy using the formula:\n",
    "\n",
    "$$ Eff_i = Eff_0*(1-Imp)^{(t_i - t_0)} $$\n",
    "Where:\n",
    "<br>\n",
    "&nbsp;&nbsp;&nbsp;&nbsp;&nbsp;&nbsp;Eff = Fuel efficency of vehicle in liters of gasoline or kilowatts of electricity per kilometer \n",
    "<br>\n",
    "&nbsp;&nbsp;&nbsp;&nbsp;&nbsp;&nbsp;t = Time period\n",
    "\n"
   ]
  },
  {
   "cell_type": "code",
   "execution_count": 110,
   "metadata": {
    "code_folding": []
   },
   "outputs": [],
   "source": [
    "#Create a list of names\n",
    "def sets (data):\n",
    "    name_set=[]\n",
    "    for name in data:\n",
    "        if name not in name_set:\n",
    "            name_set.append(name)\n",
    "    return name_set\n",
    "\n",
    "#Calculate LCOD\n",
    "def lcod_calc (cap_cost, main, fuel_cost, fuel_eff):\n",
    "    fuel_eff1=np.where((single_fuel['veh']=='ice_truck') | (single_fuel['veh']=='ev_truck'),fuel_eff*1.5,fuel_eff)\n",
    "    main1=np.where((single_fuel['veh']=='ice_truck') | (single_fuel['veh']=='ev_truck'),main*1.5,main)\n",
    "    lcod = (crf*(cap_cost+I)+main1)/kmyr + fuel_cost/(1/(fuel_eff1/100))\n",
    "    return lcod\n",
    "\n",
    "#Calculate LCOD\n",
    "def lcod_calc1 (cap_cost, main, fuel_cost, fuel_eff):\n",
    "    fuel_eff1=np.where((single_fuel['veh']=='ice_truck') | (single_fuel['veh']=='ev_truck'),fuel_eff*1.5,fuel_eff)\n",
    "    main1=np.where((single_fuel['veh']=='ice_truck') | (single_fuel['veh']=='ev_truck'),main*1.5,main)\n",
    "    lcod = pd.DataFrame((crf*(cap_cost+I)+main1)/kmyr + fuel_cost/(1/(fuel_eff1/100)), columns=['lcod'])\n",
    "    lcod['lcodcc'] = ((crf*(cap_cost))/kmyr) \n",
    "    lcod['lcodi'] = (crf*(I))/kmyr\n",
    "    lcod['lcodm'] = (main1)/kmyr\n",
    "    lcod['lcodkm'] = fuel_cost/(1/(fuel_eff1/100))\n",
    "    return lcod\n",
    "\n",
    "#Calcualte the annual improvement in chenicle efficency\n",
    "def eff_gains (start_eff, impv):\n",
    "    eff_proj = pd.DataFrame(data = {'Year': range(2020,2041), 'improve_time': range(1,22)})\n",
    "    eff_proj['eff'] = start_eff*(1-impv)**(eff_proj['Year']-2020)\n",
    "    return eff_proj\n",
    "\n",
    "def f (z):\n",
    "    return z"
   ]
  },
  {
   "cell_type": "code",
   "execution_count": 111,
   "metadata": {
    "code_folding": []
   },
   "outputs": [],
   "source": [
    "#Name management and set widgets\n",
    "prov_names = sets(neb_fuel['Region']) \n",
    "prov_names.sort()\n",
    "rgnsel = interactive(f, z=widgets.Dropdown(options=prov_names, description='Region', value='Canada'));\n",
    "infYN = interactive(f, z=widgets.Dropdown(options=['Add EV Charging Station','No EV Charging Station'],\n",
    "                                          description='Charging', value='No EV Charging Station'));"
   ]
  },
  {
   "cell_type": "markdown",
   "metadata": {},
   "source": [
    "<h2>Setting Inputs</h2>\n",
    "\n",
    "The following cell contains variables that can be manipulated by the user, although it is not necessary to make any changes. They are defined below:\n",
    "\n",
    "- **r:** Discount rate, can be set to any value between 0 and 1. A higher number means less value will be placed on future expenses\n",
    "\n",
    "- **t:** The expected life of the vehicle in years\n",
    "\n",
    "- **kmyr:** Enter number of km per year you expect drive\n",
    "\n",
    "- **user_car_cost:** If you want to specify a price in Canadian dollars for the ICE vehicle enter it here, otherwise a class average will be used\n",
    "\n",
    "- **user_ev_cost:** If you want to specify a price in Canadian dollars for the EV vehicle enter it here, otherwise the cost of the base model will be used\n",
    "\n",
    "- **ice_main:** Specify annual amount you expect to pay in  maintenance for an ICE vehicle in Canadian dollars. If unknown leave as default.\n",
    "\n",
    "- **ev_main:** Specify annual amount you expect to pay in Canadian dollars maintenance for an EV in Canadian dollars. If unknown leave as default. \n",
    "\n",
    "- **ev_eff_2020:** The efficency at which an EV uses electricty while driving in 2020, measured in kwh/km\n",
    "\n",
    "- **ice_ann_impv:** Rate of annual improvement in EV efficency. A value of 0.02 % means efficency improves by 2% each year\n",
    "\n",
    "- **ice_eff_2020:** The efficency at which an ICE vehicle uses gasolin while driving in 2020, measured in l/km of gasoline\n",
    "\n",
    "- **ice_ann_impv:** Rate of annual improvement in ICE vehicle efficency. A value of 0.02 % means efficency improves by 2% each year\n",
    "\n",
    "\n",
    "After defining variables run the cell below."
   ]
  },
  {
   "cell_type": "code",
   "execution_count": 112,
   "metadata": {
    "code_folding": []
   },
   "outputs": [
    {
     "data": {
      "application/vnd.jupyter.widget-view+json": {
       "model_id": "1ffe8457bbd2444a9b70575a03e7f1c1",
       "version_major": 2,
       "version_minor": 0
      },
      "text/plain": [
       "interactive(children=(Dropdown(description='Region', index=2, options=('Alberta', 'British Columbia', 'Canada'…"
      ]
     },
     "metadata": {},
     "output_type": "display_data"
    },
    {
     "data": {
      "application/vnd.jupyter.widget-view+json": {
       "model_id": "873d6f13a74c4203a27ae6b014935a58",
       "version_major": 2,
       "version_minor": 0
      },
      "text/plain": [
       "interactive(children=(Dropdown(description='Charging', index=1, options=('Add EV Charging Station', 'No EV Cha…"
      ]
     },
     "metadata": {},
     "output_type": "display_data"
    }
   ],
   "source": [
    "#Define Variables\n",
    "r=0.10\n",
    "t=15\n",
    "kmyr=15000\n",
    "ice_main = 530\n",
    "ev_main = 450\n",
    "ev_eff_2020 = 20 \n",
    "ev_ann_impv = 0.02\n",
    "ice_eff_2020 = 7\n",
    "ice_ann_impv = 0.01\n",
    "\n",
    "#Calculate CRF based on inputs\n",
    "crf = (r*(1+r)**t)/((1+r)**t-1)\n",
    "\n",
    "#Select the region you wish to run the comparison for\n",
    "display(rgnsel)\n",
    "display(infYN)"
   ]
  },
  {
   "cell_type": "code",
   "execution_count": 113,
   "metadata": {
    "code_folding": [
     0
    ],
    "scrolled": false
   },
   "outputs": [
    {
     "data": {
      "text/plain": [
       "<seaborn.axisgrid.FacetGrid at 0x27d106f4a20>"
      ]
     },
     "execution_count": 113,
     "metadata": {},
     "output_type": "execute_result"
    },
    {
     "data": {
      "image/png": "[encoded data removed]",
      "text/plain": [
       "<Figure size 720x360 with 2 Axes>"
      ]
     },
     "metadata": {},
     "output_type": "display_data"
    }
   ],
   "source": [
    "#Run the calculations based on your defined variables \n",
    "region = rgnsel.result\n",
    "if infYN.result == 'Add EV Charging Station':\n",
    "    I = 1000\n",
    "else:\n",
    "    I = 0\n",
    "\n",
    "ev_eff_proj = eff_gains(ev_eff_2020, ev_ann_impv)\n",
    "ev_eff_proj['Variable_English'] = 'B'\n",
    "ice_eff_proj = eff_gains(ice_eff_2020, ice_ann_impv)\n",
    "ice_eff_proj['Variable_English'] = 'X'\n",
    "veh_eff_proj = ev_eff_proj.append(ice_eff_proj)\n",
    "\n",
    "eff_merged = ef_costs.merge(neb_fuel, on=['Year', 'Variable_English', 'Case'])\n",
    "eff_merged = eff_merged.merge(veh_eff_proj, on=['Year', 'Variable_English'])\n",
    "\n",
    "fuel_type_list = sets(eff_merged['Variable_English'])\n",
    "\n",
    "eff_lcod=[]\n",
    "for fuel_type in (fuel_type_list):\n",
    "    if fuel_type == 'X':\n",
    "        main = ice_main\n",
    "    else:\n",
    "        main = ev_main\n",
    "    single_fuel = eff_merged[(eff_merged.Variable_English == fuel_type)]\n",
    "    lcod_types = lcod_calc1(single_fuel['price'], main, single_fuel['$/unit'], single_fuel['eff'])\n",
    "    single_fuel1 = pd.concat([single_fuel,lcod_types], axis=1)\n",
    "    single_fuel1 = pd.melt(single_fuel1, id_vars=['veh','Year','Variable_English','Case','Region'], \n",
    "                           value_vars=['lcod', 'lcodcc', 'lcodi','lcodm','lcodkm'])\n",
    "    eff_lcod.append(single_fuel1)\n",
    "veh_eff = pd.concat(eff_lcod)\n",
    "\n",
    "#The line below can be activeate and the directory can be changed if you want to export the LCOD data to a csv file \n",
    "#veh_eff.to_csv('C:\\\\Users\\\\saftryan\\\\LCOD stuff\\\\lcod.csv')\n",
    "rgn_plt = veh_eff[veh_eff.Region == region]\n",
    "#Plot Charts\n",
    "sns.set(font_scale=1.25,)\n",
    "g=sns.catplot(x='Year',y='value',hue='veh',data=rgn_plt, kind='bar',col='Case',ci=None, legend=False,\n",
    "             row_order=['ice_car','ev_car', 'ice_truck','ev_truck'])\n",
    "plt.legend(loc=0, labels = ['ICE Car', 'ICE Truck', 'EV Car', 'EV Truck'], bbox_to_anchor=(1,.5))\n",
    "g.set_titles('{col_name} Case: '+ region)\n",
    "g.set_axis_labels('Year','LCOD (CAD/km)')"
   ]
  },
  {
   "cell_type": "markdown",
   "metadata": {},
   "source": [
    "The above charts show the projected LCOD in the region selected earlier based off of the vehicle cost assumptions made in the report *Canada's Energy Future 2018*.\n",
    "\n",
    "The next section compares the difference in LCOD between an ICE and an EV in the Reference and Tecnology cases for the same sized vehicles (e.g. ICE Car vs EV Car) based off of the assumptions made in the previous section. To display charts showing these results run the cell below."
   ]
  },
  {
   "cell_type": "code",
   "execution_count": 103,
   "metadata": {
    "code_folding": []
   },
   "outputs": [
    {
     "data": {
      "text/plain": [
       "<matplotlib.lines.Line2D at 0x27d207dcf28>"
      ]
     },
     "execution_count": 103,
     "metadata": {},
     "output_type": "execute_result"
    },
    {
     "data": {
      "image/png": "[encoded data removed]",
      "text/plain": [
       "<Figure size 720x360 with 2 Axes>"
      ]
     },
     "metadata": {},
     "output_type": "display_data"
    }
   ],
   "source": [
    "#Calculate differences in LCOD\n",
    "ice_lcod = eff_lcod[0]\n",
    "ev_lcod = eff_lcod[1]\n",
    "ev_lcod = ev_lcod.reset_index(drop=True)\n",
    "ice_lcod['ev_lcod'] = ev_lcod['value']\n",
    "ice_lcod['comp_type'] = ice_lcod['veh'] + '-' + ev_lcod['veh']\n",
    "ice_lcod['ice_less_ev'] = ice_lcod['value'] - ice_lcod['ev_lcod']\n",
    "comp_list = sets(ice_lcod['comp_type'])\n",
    "rgn_plt = ice_lcod[(ice_lcod.Region == region) & (ice_lcod.variable == 'lcod')]\n",
    "\n",
    "sns.set(font_scale=1.25)\n",
    "g=sns.catplot(x='Year',y='ice_less_ev',hue='comp_type',data=rgn_plt,\n",
    "              kind='bar',col='Case',ci=None, legend=False, palette='colorblind')\n",
    "g.set_axis_labels('Year','LCOD Difference (CAD/km)')\n",
    "g.set_titles('{col_name} Case: '+ region)\n",
    "ax1, ax2 = g.axes[0]\n",
    "plt.legend(loc=0, labels = ['ICE Car - EV Car', 'ICE Truck - EV Truck'], bbox_to_anchor=(1,.5))\n",
    "ax1.axhline(0, ls='--', color='grey')\n",
    "ax2.axhline(0, ls='--', color='grey')"
   ]
  },
  {
   "cell_type": "markdown",
   "metadata": {},
   "source": [
    "These charts show the difference in LCOD between ICE vehicles and EVs based off of the assumptions made earlier in the report. A positive number indicates that the electric version of either the car or truck has a lower LCOD than that of its ICE equivilant, meaning that is cheaper to drive on a per km basis. The point where EVs become cheaper than ICE vehicles will vary based on the imputs."
   ]
  },
  {
   "cell_type": "code",
   "execution_count": 106,
   "metadata": {
    "code_folding": []
   },
   "outputs": [],
   "source": [
    "#The lines below can be activeate and the directory can be changed if you want to export the LCOD data to a csv file \n",
    "veh_eff.to_csv('C:\\\\Users\\\\saftryan\\\\LCOD stuff\\\\lcod.csv')\n",
    "ice_lcod.to_csv('C:\\\\Users\\\\saftryan\\\\LCOD stuff\\\\lcod_comp.csv')"
   ]
  },
  {
   "cell_type": "code",
   "execution_count": null,
   "metadata": {},
   "outputs": [],
   "source": []
  }
 ],
 "metadata": {
  "kernelspec": {
   "display_name": "Python 3",
   "language": "python",
   "name": "python3"
  },
  "language_info": {
   "codemirror_mode": {
    "name": "ipython",
    "version": 3
   },
   "file_extension": ".py",
   "mimetype": "text/x-python",
   "name": "python",
   "nbconvert_exporter": "python",
   "pygments_lexer": "ipython3",
   "version": "3.7.0"
  },
  "widgets": {
   "application/vnd.jupyter.widget-state+json": {
    "state": {
     "00832445333844ee99f3607585a4da9f": {
      "model_module": "@jupyter-widgets/output",
      "model_module_version": "1.0.0",
      "model_name": "OutputModel",
      "state": {
       "layout": "IPY_MODEL_4fce66f9cd6b44a7b84d7dde158f3dd7"
      }
     },
     "0381e4551f464d00a9ac8d41825c8ab7": {
      "model_module": "@jupyter-widgets/output",
      "model_module_version": "1.0.0",
      "model_name": "OutputModel",
      "state": {
       "layout": "IPY_MODEL_8421826c082448548c060e62562b5b58"
      }
     },
     "08fcc0f0dbcf491cbf321395ca0285bd": {
      "model_module": "@jupyter-widgets/base",
      "model_module_version": "1.1.0",
      "model_name": "LayoutModel",
      "state": {}
     },
     "0af211deb6664d3ea708cf0224ba3651": {
      "model_module": "@jupyter-widgets/controls",
      "model_module_version": "1.4.0",
      "model_name": "DropdownModel",
      "state": {
       "_options_labels": [
        "Add EV Charging Station",
        "No EV Charging Station"
       ],
       "description": "Charging",
       "index": 1,
       "layout": "IPY_MODEL_9d6532e980974b8ca0876b95df70808e",
       "style": "IPY_MODEL_4082f262e58f456693c03cdf40de8c8b"
      }
     },
     "0f3c8c70b5d445efbf5feba6496a93d4": {
      "model_module": "@jupyter-widgets/output",
      "model_module_version": "1.0.0",
      "model_name": "OutputModel",
      "state": {
       "layout": "IPY_MODEL_a0eba3b5b24e4cdca440227d38f7fd97"
      }
     },
     "11053fb069ae4d8bac4ed9c7ece8a2c3": {
      "model_module": "@jupyter-widgets/output",
      "model_module_version": "1.0.0",
      "model_name": "OutputModel",
      "state": {
       "layout": "IPY_MODEL_97408868423a45a4a830afd8c52f0a9b"
      }
     },
     "117b735a5bf94904bdba2202b7890c39": {
      "model_module": "@jupyter-widgets/controls",
      "model_module_version": "1.4.0",
      "model_name": "VBoxModel",
      "state": {
       "_dom_classes": [
        "widget-interact"
       ],
       "children": [
        "IPY_MODEL_0af211deb6664d3ea708cf0224ba3651",
        "IPY_MODEL_647abd5ed1974f6e80132e1b208e7d39"
       ],
       "layout": "IPY_MODEL_b75813844473464d859bfd23c8942a65"
      }
     },
     "195653d52ec242348796394b24a5e615": {
      "model_module": "@jupyter-widgets/controls",
      "model_module_version": "1.4.0",
      "model_name": "DescriptionStyleModel",
      "state": {
       "description_width": ""
      }
     },
     "1d22ef0800c545d98e62068879f20594": {
      "model_module": "@jupyter-widgets/output",
      "model_module_version": "1.0.0",
      "model_name": "OutputModel",
      "state": {
       "layout": "IPY_MODEL_2c82a71301ef4eee9ba3e73958c32557"
      }
     },
     "1f2861408b394420b968c6aea21bbeeb": {
      "model_module": "@jupyter-widgets/controls",
      "model_module_version": "1.4.0",
      "model_name": "DropdownModel",
      "state": {
       "_options_labels": [
        "Add EV Charging Station",
        "No EV Charging Station"
       ],
       "description": "Charging",
       "index": 1,
       "layout": "IPY_MODEL_30a5958c60284b5cbd55b179ee52df7f",
       "style": "IPY_MODEL_c5dcabb6240446e8b9a553128649bf3d"
      }
     },
     "1ffe8457bbd2444a9b70575a03e7f1c1": {
      "model_module": "@jupyter-widgets/controls",
      "model_module_version": "1.4.0",
      "model_name": "VBoxModel",
      "state": {
       "_dom_classes": [
        "widget-interact"
       ],
       "children": [
        "IPY_MODEL_64f01911f14d477f9a4f3806321ea355",
        "IPY_MODEL_0381e4551f464d00a9ac8d41825c8ab7"
       ],
       "layout": "IPY_MODEL_c367f5c616ea48739de659bb38673499"
      }
     },
     "20db562d12d24ab5928b5a10c1c04996": {
      "model_module": "@jupyter-widgets/base",
      "model_module_version": "1.1.0",
      "model_name": "LayoutModel",
      "state": {}
     },
     "26d92809c369493491440c343ca844dd": {
      "model_module": "@jupyter-widgets/output",
      "model_module_version": "1.0.0",
      "model_name": "OutputModel",
      "state": {
       "layout": "IPY_MODEL_297ecf5f26ff4aa9898dccd293468239"
      }
     },
     "29098cb384744ca69689ad9f014b9cc9": {
      "model_module": "@jupyter-widgets/base",
      "model_module_version": "1.1.0",
      "model_name": "LayoutModel",
      "state": {}
     },
     "297ecf5f26ff4aa9898dccd293468239": {
      "model_module": "@jupyter-widgets/base",
      "model_module_version": "1.1.0",
      "model_name": "LayoutModel",
      "state": {}
     },
     "2b55de2a812045af9cb8b69f0e10cc10": {
      "model_module": "@jupyter-widgets/output",
      "model_module_version": "1.0.0",
      "model_name": "OutputModel",
      "state": {
       "layout": "IPY_MODEL_45ad1c0603d64ae8ae1f5f36b33b9c88"
      }
     },
     "2b937fa6758148b296a204cc1dd99641": {
      "model_module": "@jupyter-widgets/base",
      "model_module_version": "1.1.0",
      "model_name": "LayoutModel",
      "state": {}
     },
     "2c82a71301ef4eee9ba3e73958c32557": {
      "model_module": "@jupyter-widgets/base",
      "model_module_version": "1.1.0",
      "model_name": "LayoutModel",
      "state": {}
     },
     "2fa801036dc040ccab20693a5dc5b3e0": {
      "model_module": "@jupyter-widgets/base",
      "model_module_version": "1.1.0",
      "model_name": "LayoutModel",
      "state": {}
     },
     "307c06bcfadf40a0b268e94ee0a976b5": {
      "model_module": "@jupyter-widgets/output",
      "model_module_version": "1.0.0",
      "model_name": "OutputModel",
      "state": {
       "layout": "IPY_MODEL_6473e7c485684eac9866bcd29d8da9da"
      }
     },
     "30a5958c60284b5cbd55b179ee52df7f": {
      "model_module": "@jupyter-widgets/base",
      "model_module_version": "1.1.0",
      "model_name": "LayoutModel",
      "state": {}
     },
     "30ac21101f204a22b1579213d51b038c": {
      "model_module": "@jupyter-widgets/base",
      "model_module_version": "1.1.0",
      "model_name": "LayoutModel",
      "state": {}
     },
     "33d22ef25ace471389f884332a33d51c": {
      "model_module": "@jupyter-widgets/controls",
      "model_module_version": "1.4.0",
      "model_name": "DropdownModel",
      "state": {
       "_options_labels": [
        "Add EV Charging Station",
        "No EV Charging Station"
       ],
       "description": "Charging",
       "index": 1,
       "layout": "IPY_MODEL_766ce760d79c4d9d8249ccf444ecaece",
       "style": "IPY_MODEL_6bc6718108734a1d83c8a2bc8e235eb7"
      }
     },
     "3688dd47ded84414831bd658850f5a16": {
      "model_module": "@jupyter-widgets/base",
      "model_module_version": "1.1.0",
      "model_name": "LayoutModel",
      "state": {}
     },
     "39c1b61781c440878a49cf72e1a9fdff": {
      "model_module": "@jupyter-widgets/output",
      "model_module_version": "1.0.0",
      "model_name": "OutputModel",
      "state": {
       "layout": "IPY_MODEL_ff2671450fb841c9a44bcbbe25005a19"
      }
     },
     "39e24a18a12e47f2a4ec383fbd19c058": {
      "model_module": "@jupyter-widgets/controls",
      "model_module_version": "1.4.0",
      "model_name": "DescriptionStyleModel",
      "state": {
       "description_width": ""
      }
     },
     "3c5ab60cf7c84e6da9ee3428d5eb770e": {
      "model_module": "@jupyter-widgets/controls",
      "model_module_version": "1.4.0",
      "model_name": "DescriptionStyleModel",
      "state": {
       "description_width": ""
      }
     },
     "4082f262e58f456693c03cdf40de8c8b": {
      "model_module": "@jupyter-widgets/controls",
      "model_module_version": "1.4.0",
      "model_name": "DescriptionStyleModel",
      "state": {
       "description_width": ""
      }
     },
     "40a6f194005444d888700c57283ca35e": {
      "model_module": "@jupyter-widgets/base",
      "model_module_version": "1.1.0",
      "model_name": "LayoutModel",
      "state": {}
     },
     "45ad1c0603d64ae8ae1f5f36b33b9c88": {
      "model_module": "@jupyter-widgets/base",
      "model_module_version": "1.1.0",
      "model_name": "LayoutModel",
      "state": {}
     },
     "4e1e2e85d81c40feb9fbee1155195b14": {
      "model_module": "@jupyter-widgets/controls",
      "model_module_version": "1.4.0",
      "model_name": "DescriptionStyleModel",
      "state": {
       "description_width": ""
      }
     },
     "4ef8b088f361423eb7d928c202ff1a4b": {
      "model_module": "@jupyter-widgets/controls",
      "model_module_version": "1.4.0",
      "model_name": "DescriptionStyleModel",
      "state": {
       "description_width": ""
      }
     },
     "4fce66f9cd6b44a7b84d7dde158f3dd7": {
      "model_module": "@jupyter-widgets/base",
      "model_module_version": "1.1.0",
      "model_name": "LayoutModel",
      "state": {}
     },
     "5170e9725f874891ac718de5584030d1": {
      "model_module": "@jupyter-widgets/controls",
      "model_module_version": "1.4.0",
      "model_name": "DropdownModel",
      "state": {
       "_options_labels": [
        "Alberta",
        "British Columbia",
        "Canada",
        "Manitoba",
        "New Brunswick",
        "Newfoundland and Labrador",
        "Northwest Territories",
        "Nova Scotia",
        "Nunavut",
        "Ontario",
        "Prince Edward Island",
        "Quebec",
        "Saskatchewan",
        "Yukon"
       ],
       "description": "Region",
       "index": 2,
       "layout": "IPY_MODEL_f3a1376e2b1c432ba58c31902dadc9bd",
       "style": "IPY_MODEL_f1cdbc8ffb7b4217b3ae9a71a43f2649"
      }
     },
     "536cecc322af4d42becd21041b96f80d": {
      "model_module": "@jupyter-widgets/controls",
      "model_module_version": "1.4.0",
      "model_name": "DescriptionStyleModel",
      "state": {
       "description_width": ""
      }
     },
     "56651f5a69554623a6715623c81c2efa": {
      "model_module": "@jupyter-widgets/controls",
      "model_module_version": "1.4.0",
      "model_name": "DescriptionStyleModel",
      "state": {
       "description_width": ""
      }
     },
     "5bbd6f6b1bf44c00ac91009ac9495c48": {
      "model_module": "@jupyter-widgets/controls",
      "model_module_version": "1.4.0",
      "model_name": "VBoxModel",
      "state": {
       "_dom_classes": [
        "widget-interact"
       ],
       "children": [
        "IPY_MODEL_33d22ef25ace471389f884332a33d51c",
        "IPY_MODEL_dd17c25aeab44175a8b2990bc331e77c"
       ],
       "layout": "IPY_MODEL_2fa801036dc040ccab20693a5dc5b3e0"
      }
     },
     "5c5e21465a17482586d2434cd3ab9caf": {
      "model_module": "@jupyter-widgets/controls",
      "model_module_version": "1.4.0",
      "model_name": "DropdownModel",
      "state": {
       "_options_labels": [
        "Add EV Charging Station",
        "No EV Charging Station"
       ],
       "description": "Charging",
       "index": 1,
       "layout": "IPY_MODEL_98a0ea5fbf944731b8bb13fcb1e85876",
       "style": "IPY_MODEL_d75e09ae94ab427d9e5c8b54b86c0295"
      }
     },
     "5d815f83a9d64890bc293a7fe6b98191": {
      "model_module": "@jupyter-widgets/controls",
      "model_module_version": "1.4.0",
      "model_name": "VBoxModel",
      "state": {
       "_dom_classes": [
        "widget-interact"
       ],
       "children": [
        "IPY_MODEL_5170e9725f874891ac718de5584030d1",
        "IPY_MODEL_39c1b61781c440878a49cf72e1a9fdff"
       ],
       "layout": "IPY_MODEL_b3ef88af5f274ec098f38ecc06f95964"
      }
     },
     "5ef2e2d766974d4b8ebe545bde501144": {
      "model_module": "@jupyter-widgets/controls",
      "model_module_version": "1.4.0",
      "model_name": "VBoxModel",
      "state": {
       "_dom_classes": [
        "widget-interact"
       ],
       "children": [
        "IPY_MODEL_60f7f60c79e048d888754bd8fe266502",
        "IPY_MODEL_1d22ef0800c545d98e62068879f20594"
       ],
       "layout": "IPY_MODEL_f50339bc7682400796e13fd280a181ca"
      }
     },
     "60f7f60c79e048d888754bd8fe266502": {
      "model_module": "@jupyter-widgets/controls",
      "model_module_version": "1.4.0",
      "model_name": "DropdownModel",
      "state": {
       "_options_labels": [
        "Alberta",
        "British Columbia",
        "Canada",
        "Manitoba",
        "New Brunswick",
        "Newfoundland and Labrador",
        "Northwest Territories",
        "Nova Scotia",
        "Nunavut",
        "Ontario",
        "Prince Edward Island",
        "Quebec",
        "Saskatchewan",
        "Yukon"
       ],
       "description": "Region",
       "index": 2,
       "layout": "IPY_MODEL_30ac21101f204a22b1579213d51b038c",
       "style": "IPY_MODEL_d43f54cd8f41428bb9edab3050f3380c"
      }
     },
     "6473e7c485684eac9866bcd29d8da9da": {
      "model_module": "@jupyter-widgets/base",
      "model_module_version": "1.1.0",
      "model_name": "LayoutModel",
      "state": {}
     },
     "647abd5ed1974f6e80132e1b208e7d39": {
      "model_module": "@jupyter-widgets/output",
      "model_module_version": "1.0.0",
      "model_name": "OutputModel",
      "state": {
       "layout": "IPY_MODEL_d96edfbcbcf54577a1d5afe3a744ff78"
      }
     },
     "64f01911f14d477f9a4f3806321ea355": {
      "model_module": "@jupyter-widgets/controls",
      "model_module_version": "1.4.0",
      "model_name": "DropdownModel",
      "state": {
       "_options_labels": [
        "Alberta",
        "British Columbia",
        "Canada",
        "Manitoba",
        "New Brunswick",
        "Newfoundland and Labrador",
        "Northwest Territories",
        "Nova Scotia",
        "Nunavut",
        "Ontario",
        "Prince Edward Island",
        "Quebec",
        "Saskatchewan",
        "Yukon"
       ],
       "description": "Region",
       "index": 2,
       "layout": "IPY_MODEL_88846d70af37415399b3fe069f61b38b",
       "style": "IPY_MODEL_4e1e2e85d81c40feb9fbee1155195b14"
      }
     },
     "68b705dd6b0e4590b9177152a39ace89": {
      "model_module": "@jupyter-widgets/base",
      "model_module_version": "1.1.0",
      "model_name": "LayoutModel",
      "state": {}
     },
     "6bc6718108734a1d83c8a2bc8e235eb7": {
      "model_module": "@jupyter-widgets/controls",
      "model_module_version": "1.4.0",
      "model_name": "DescriptionStyleModel",
      "state": {
       "description_width": ""
      }
     },
     "6fe8a14aa1a64ef1abc031b4eaaa8256": {
      "model_module": "@jupyter-widgets/controls",
      "model_module_version": "1.4.0",
      "model_name": "VBoxModel",
      "state": {
       "_dom_classes": [
        "widget-interact"
       ],
       "children": [
        "IPY_MODEL_8911d2b0154f44b8bca95a48b32f830d",
        "IPY_MODEL_0f3c8c70b5d445efbf5feba6496a93d4"
       ],
       "layout": "IPY_MODEL_768eb5287b9b4484b60a85efb4a32296"
      }
     },
     "766ce760d79c4d9d8249ccf444ecaece": {
      "model_module": "@jupyter-widgets/base",
      "model_module_version": "1.1.0",
      "model_name": "LayoutModel",
      "state": {}
     },
     "768eb5287b9b4484b60a85efb4a32296": {
      "model_module": "@jupyter-widgets/base",
      "model_module_version": "1.1.0",
      "model_name": "LayoutModel",
      "state": {}
     },
     "775492bf7b1f4cadaaed0e4d370b284c": {
      "model_module": "@jupyter-widgets/output",
      "model_module_version": "1.0.0",
      "model_name": "OutputModel",
      "state": {
       "layout": "IPY_MODEL_aff9cba5710842f1a5d63088c18833c5"
      }
     },
     "83a74f85d5a2492bbc9c6cb9dcdcb014": {
      "model_module": "@jupyter-widgets/base",
      "model_module_version": "1.1.0",
      "model_name": "LayoutModel",
      "state": {}
     },
     "8421826c082448548c060e62562b5b58": {
      "model_module": "@jupyter-widgets/base",
      "model_module_version": "1.1.0",
      "model_name": "LayoutModel",
      "state": {}
     },
     "85ca380c897a4fb5b747066f45d9e526": {
      "model_module": "@jupyter-widgets/base",
      "model_module_version": "1.1.0",
      "model_name": "LayoutModel",
      "state": {}
     },
     "873d6f13a74c4203a27ae6b014935a58": {
      "model_module": "@jupyter-widgets/controls",
      "model_module_version": "1.4.0",
      "model_name": "VBoxModel",
      "state": {
       "_dom_classes": [
        "widget-interact"
       ],
       "children": [
        "IPY_MODEL_b47e64f860f142ad8b487b833b55c3bf",
        "IPY_MODEL_11053fb069ae4d8bac4ed9c7ece8a2c3"
       ],
       "layout": "IPY_MODEL_85ca380c897a4fb5b747066f45d9e526"
      }
     },
     "88846d70af37415399b3fe069f61b38b": {
      "model_module": "@jupyter-widgets/base",
      "model_module_version": "1.1.0",
      "model_name": "LayoutModel",
      "state": {}
     },
     "8911d2b0154f44b8bca95a48b32f830d": {
      "model_module": "@jupyter-widgets/controls",
      "model_module_version": "1.4.0",
      "model_name": "DropdownModel",
      "state": {
       "_options_labels": [
        "Add EV Charging Station",
        "No EV Charging Station"
       ],
       "description": "Charging",
       "index": 1,
       "layout": "IPY_MODEL_68b705dd6b0e4590b9177152a39ace89",
       "style": "IPY_MODEL_a8b8525e4a5d4040b74f7fac302c1340"
      }
     },
     "8eff603fe08e45a69df524b00ff306f9": {
      "model_module": "@jupyter-widgets/base",
      "model_module_version": "1.1.0",
      "model_name": "LayoutModel",
      "state": {}
     },
     "97408868423a45a4a830afd8c52f0a9b": {
      "model_module": "@jupyter-widgets/base",
      "model_module_version": "1.1.0",
      "model_name": "LayoutModel",
      "state": {}
     },
     "982640895e654830940a5d4bffbe1216": {
      "model_module": "@jupyter-widgets/base",
      "model_module_version": "1.1.0",
      "model_name": "LayoutModel",
      "state": {}
     },
     "98a0ea5fbf944731b8bb13fcb1e85876": {
      "model_module": "@jupyter-widgets/base",
      "model_module_version": "1.1.0",
      "model_name": "LayoutModel",
      "state": {}
     },
     "9a95a794ce0441d2ae24070b4d2ff1b7": {
      "model_module": "@jupyter-widgets/base",
      "model_module_version": "1.1.0",
      "model_name": "LayoutModel",
      "state": {}
     },
     "9d6532e980974b8ca0876b95df70808e": {
      "model_module": "@jupyter-widgets/base",
      "model_module_version": "1.1.0",
      "model_name": "LayoutModel",
      "state": {}
     },
     "9df5eefa962b49a2bf65e1f6adb3f2ff": {
      "model_module": "@jupyter-widgets/base",
      "model_module_version": "1.1.0",
      "model_name": "LayoutModel",
      "state": {}
     },
     "a0eba3b5b24e4cdca440227d38f7fd97": {
      "model_module": "@jupyter-widgets/base",
      "model_module_version": "1.1.0",
      "model_name": "LayoutModel",
      "state": {}
     },
     "a8b8525e4a5d4040b74f7fac302c1340": {
      "model_module": "@jupyter-widgets/controls",
      "model_module_version": "1.4.0",
      "model_name": "DescriptionStyleModel",
      "state": {
       "description_width": ""
      }
     },
     "abd5fe2940ef47009b46a6b4e95d6de8": {
      "model_module": "@jupyter-widgets/controls",
      "model_module_version": "1.4.0",
      "model_name": "VBoxModel",
      "state": {
       "_dom_classes": [
        "widget-interact"
       ],
       "children": [
        "IPY_MODEL_ad53bafcaa4847998de751fee5515dbb",
        "IPY_MODEL_ede3ff4c3d1a4d31b2cd034865a68c60"
       ],
       "layout": "IPY_MODEL_982640895e654830940a5d4bffbe1216"
      }
     },
     "ad25dc7fe3ae4c74965a6fab92d9abd4": {
      "model_module": "@jupyter-widgets/base",
      "model_module_version": "1.1.0",
      "model_name": "LayoutModel",
      "state": {}
     },
     "ad53bafcaa4847998de751fee5515dbb": {
      "model_module": "@jupyter-widgets/controls",
      "model_module_version": "1.4.0",
      "model_name": "DropdownModel",
      "state": {
       "_options_labels": [
        "Alberta",
        "British Columbia",
        "Canada",
        "Manitoba",
        "New Brunswick",
        "Newfoundland and Labrador",
        "Northwest Territories",
        "Nova Scotia",
        "Nunavut",
        "Ontario",
        "Prince Edward Island",
        "Quebec",
        "Saskatchewan",
        "Yukon"
       ],
       "description": "Region",
       "index": 2,
       "layout": "IPY_MODEL_e2ccd348f49e4a2c8d00e3cd79f93c2a",
       "style": "IPY_MODEL_3c5ab60cf7c84e6da9ee3428d5eb770e"
      }
     },
     "aff9cba5710842f1a5d63088c18833c5": {
      "model_module": "@jupyter-widgets/base",
      "model_module_version": "1.1.0",
      "model_name": "LayoutModel",
      "state": {}
     },
     "b06a57fa07124f12bc7ef3a4b779c9ea": {
      "model_module": "@jupyter-widgets/base",
      "model_module_version": "1.1.0",
      "model_name": "LayoutModel",
      "state": {}
     },
     "b2b652399a2249038f965b5ca5854350": {
      "model_module": "@jupyter-widgets/controls",
      "model_module_version": "1.4.0",
      "model_name": "VBoxModel",
      "state": {
       "_dom_classes": [
        "widget-interact"
       ],
       "children": [
        "IPY_MODEL_e2df947879b04526ab36295c3280eef2",
        "IPY_MODEL_26d92809c369493491440c343ca844dd"
       ],
       "layout": "IPY_MODEL_8eff603fe08e45a69df524b00ff306f9"
      }
     },
     "b3ef88af5f274ec098f38ecc06f95964": {
      "model_module": "@jupyter-widgets/base",
      "model_module_version": "1.1.0",
      "model_name": "LayoutModel",
      "state": {}
     },
     "b47e64f860f142ad8b487b833b55c3bf": {
      "model_module": "@jupyter-widgets/controls",
      "model_module_version": "1.4.0",
      "model_name": "DropdownModel",
      "state": {
       "_options_labels": [
        "Add EV Charging Station",
        "No EV Charging Station"
       ],
       "description": "Charging",
       "index": 1,
       "layout": "IPY_MODEL_cf3231101d7144139c10237c3a1bbffe",
       "style": "IPY_MODEL_4ef8b088f361423eb7d928c202ff1a4b"
      }
     },
     "b5a7ddcd441c4461985803a8b93f6d3a": {
      "model_module": "@jupyter-widgets/controls",
      "model_module_version": "1.4.0",
      "model_name": "VBoxModel",
      "state": {
       "_dom_classes": [
        "widget-interact"
       ],
       "children": [
        "IPY_MODEL_1f2861408b394420b968c6aea21bbeeb",
        "IPY_MODEL_775492bf7b1f4cadaaed0e4d370b284c"
       ],
       "layout": "IPY_MODEL_20db562d12d24ab5928b5a10c1c04996"
      }
     },
     "b75813844473464d859bfd23c8942a65": {
      "model_module": "@jupyter-widgets/base",
      "model_module_version": "1.1.0",
      "model_name": "LayoutModel",
      "state": {}
     },
     "be7bbf66d4294e17b353ba1cc733e253": {
      "model_module": "@jupyter-widgets/controls",
      "model_module_version": "1.4.0",
      "model_name": "VBoxModel",
      "state": {
       "_dom_classes": [
        "widget-interact"
       ],
       "children": [
        "IPY_MODEL_fa110293b2a74b5680f0f9fe48418c06",
        "IPY_MODEL_307c06bcfadf40a0b268e94ee0a976b5"
       ],
       "layout": "IPY_MODEL_29098cb384744ca69689ad9f014b9cc9"
      }
     },
     "c166f14496c04f78a0e8ed5895bc1691": {
      "model_module": "@jupyter-widgets/output",
      "model_module_version": "1.0.0",
      "model_name": "OutputModel",
      "state": {
       "layout": "IPY_MODEL_83a74f85d5a2492bbc9c6cb9dcdcb014"
      }
     },
     "c367f5c616ea48739de659bb38673499": {
      "model_module": "@jupyter-widgets/base",
      "model_module_version": "1.1.0",
      "model_name": "LayoutModel",
      "state": {}
     },
     "c5dcabb6240446e8b9a553128649bf3d": {
      "model_module": "@jupyter-widgets/controls",
      "model_module_version": "1.4.0",
      "model_name": "DescriptionStyleModel",
      "state": {
       "description_width": ""
      }
     },
     "cf3231101d7144139c10237c3a1bbffe": {
      "model_module": "@jupyter-widgets/base",
      "model_module_version": "1.1.0",
      "model_name": "LayoutModel",
      "state": {}
     },
     "cf570efb5ed742acb62edac149130075": {
      "model_module": "@jupyter-widgets/controls",
      "model_module_version": "1.4.0",
      "model_name": "VBoxModel",
      "state": {
       "_dom_classes": [
        "widget-interact"
       ],
       "children": [
        "IPY_MODEL_f6c3f66c79344c038cdec8d743d64ca0",
        "IPY_MODEL_00832445333844ee99f3607585a4da9f"
       ],
       "layout": "IPY_MODEL_40a6f194005444d888700c57283ca35e"
      }
     },
     "d1773a76f79c4e16a34610ece5c519cc": {
      "model_module": "@jupyter-widgets/controls",
      "model_module_version": "1.4.0",
      "model_name": "VBoxModel",
      "state": {
       "_dom_classes": [
        "widget-interact"
       ],
       "children": [
        "IPY_MODEL_d7cf02fac3e04bdca409044cdf2e686e",
        "IPY_MODEL_2b55de2a812045af9cb8b69f0e10cc10"
       ],
       "layout": "IPY_MODEL_b06a57fa07124f12bc7ef3a4b779c9ea"
      }
     },
     "d1b6a6011a6a4e5f8fbd00a6fd7f4d38": {
      "model_module": "@jupyter-widgets/base",
      "model_module_version": "1.1.0",
      "model_name": "LayoutModel",
      "state": {}
     },
     "d43f54cd8f41428bb9edab3050f3380c": {
      "model_module": "@jupyter-widgets/controls",
      "model_module_version": "1.4.0",
      "model_name": "DescriptionStyleModel",
      "state": {
       "description_width": ""
      }
     },
     "d75e09ae94ab427d9e5c8b54b86c0295": {
      "model_module": "@jupyter-widgets/controls",
      "model_module_version": "1.4.0",
      "model_name": "DescriptionStyleModel",
      "state": {
       "description_width": ""
      }
     },
     "d7cf02fac3e04bdca409044cdf2e686e": {
      "model_module": "@jupyter-widgets/controls",
      "model_module_version": "1.4.0",
      "model_name": "DropdownModel",
      "state": {
       "_options_labels": [
        "Alberta",
        "British Columbia",
        "Canada",
        "Manitoba",
        "New Brunswick",
        "Newfoundland and Labrador",
        "Northwest Territories",
        "Nova Scotia",
        "Nunavut",
        "Ontario",
        "Prince Edward Island",
        "Quebec",
        "Saskatchewan",
        "Yukon"
       ],
       "description": "Region",
       "index": 2,
       "layout": "IPY_MODEL_ad25dc7fe3ae4c74965a6fab92d9abd4",
       "style": "IPY_MODEL_39e24a18a12e47f2a4ec383fbd19c058"
      }
     },
     "d96edfbcbcf54577a1d5afe3a744ff78": {
      "model_module": "@jupyter-widgets/base",
      "model_module_version": "1.1.0",
      "model_name": "LayoutModel",
      "state": {}
     },
     "da07854ef260421a9be8926a14894428": {
      "model_module": "@jupyter-widgets/controls",
      "model_module_version": "1.4.0",
      "model_name": "VBoxModel",
      "state": {
       "_dom_classes": [
        "widget-interact"
       ],
       "children": [
        "IPY_MODEL_5c5e21465a17482586d2434cd3ab9caf",
        "IPY_MODEL_c166f14496c04f78a0e8ed5895bc1691"
       ],
       "layout": "IPY_MODEL_3688dd47ded84414831bd658850f5a16"
      }
     },
     "dd17c25aeab44175a8b2990bc331e77c": {
      "model_module": "@jupyter-widgets/output",
      "model_module_version": "1.0.0",
      "model_name": "OutputModel",
      "state": {
       "layout": "IPY_MODEL_08fcc0f0dbcf491cbf321395ca0285bd"
      }
     },
     "e2ccd348f49e4a2c8d00e3cd79f93c2a": {
      "model_module": "@jupyter-widgets/base",
      "model_module_version": "1.1.0",
      "model_name": "LayoutModel",
      "state": {}
     },
     "e2df947879b04526ab36295c3280eef2": {
      "model_module": "@jupyter-widgets/controls",
      "model_module_version": "1.4.0",
      "model_name": "DropdownModel",
      "state": {
       "_options_labels": [
        "Add EV Charging Station",
        "No EV Charging Station"
       ],
       "description": "Charging",
       "index": 0,
       "layout": "IPY_MODEL_d1b6a6011a6a4e5f8fbd00a6fd7f4d38",
       "style": "IPY_MODEL_56651f5a69554623a6715623c81c2efa"
      }
     },
     "ede3ff4c3d1a4d31b2cd034865a68c60": {
      "model_module": "@jupyter-widgets/output",
      "model_module_version": "1.0.0",
      "model_name": "OutputModel",
      "state": {
       "layout": "IPY_MODEL_2b937fa6758148b296a204cc1dd99641"
      }
     },
     "f1cdbc8ffb7b4217b3ae9a71a43f2649": {
      "model_module": "@jupyter-widgets/controls",
      "model_module_version": "1.4.0",
      "model_name": "DescriptionStyleModel",
      "state": {
       "description_width": ""
      }
     },
     "f3a1376e2b1c432ba58c31902dadc9bd": {
      "model_module": "@jupyter-widgets/base",
      "model_module_version": "1.1.0",
      "model_name": "LayoutModel",
      "state": {}
     },
     "f50339bc7682400796e13fd280a181ca": {
      "model_module": "@jupyter-widgets/base",
      "model_module_version": "1.1.0",
      "model_name": "LayoutModel",
      "state": {}
     },
     "f6c3f66c79344c038cdec8d743d64ca0": {
      "model_module": "@jupyter-widgets/controls",
      "model_module_version": "1.4.0",
      "model_name": "DropdownModel",
      "state": {
       "_options_labels": [
        "Alberta",
        "British Columbia",
        "Canada",
        "Manitoba",
        "New Brunswick",
        "Newfoundland and Labrador",
        "Northwest Territories",
        "Nova Scotia",
        "Nunavut",
        "Ontario",
        "Prince Edward Island",
        "Quebec",
        "Saskatchewan",
        "Yukon"
       ],
       "description": "Region",
       "index": 2,
       "layout": "IPY_MODEL_9df5eefa962b49a2bf65e1f6adb3f2ff",
       "style": "IPY_MODEL_195653d52ec242348796394b24a5e615"
      }
     },
     "fa110293b2a74b5680f0f9fe48418c06": {
      "model_module": "@jupyter-widgets/controls",
      "model_module_version": "1.4.0",
      "model_name": "DropdownModel",
      "state": {
       "_options_labels": [
        "Alberta",
        "British Columbia",
        "Canada",
        "Manitoba",
        "New Brunswick",
        "Newfoundland and Labrador",
        "Northwest Territories",
        "Nova Scotia",
        "Nunavut",
        "Ontario",
        "Prince Edward Island",
        "Quebec",
        "Saskatchewan",
        "Yukon"
       ],
       "description": "Region",
       "index": 2,
       "layout": "IPY_MODEL_9a95a794ce0441d2ae24070b4d2ff1b7",
       "style": "IPY_MODEL_536cecc322af4d42becd21041b96f80d"
      }
     },
     "ff2671450fb841c9a44bcbbe25005a19": {
      "model_module": "@jupyter-widgets/base",
      "model_module_version": "1.1.0",
      "model_name": "LayoutModel",
      "state": {}
     }
    },
    "version_major": 2,
    "version_minor": 0
   }
  }
 },
 "nbformat": 4,
 "nbformat_minor": 2
}
